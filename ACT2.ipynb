{
  "nbformat": 4,
  "nbformat_minor": 0,
  "metadata": {
    "colab": {
      "provenance": [],
      "authorship_tag": "ABX9TyMp/b04ntG59a97JZo9K5Vj",
      "include_colab_link": true
    },
    "kernelspec": {
      "name": "python3",
      "display_name": "Python 3"
    },
    "language_info": {
      "name": "python"
    }
  },
  "cells": [
    {
      "cell_type": "markdown",
      "metadata": {
        "id": "view-in-github",
        "colab_type": "text"
      },
      "source": [
        "<a href=\"https://colab.research.google.com/github/LilianaHg/retoAnalitica/blob/main/ACT2.ipynb\" target=\"_parent\"><img src=\"https://colab.research.google.com/assets/colab-badge.svg\" alt=\"Open In Colab\"/></a>"
      ]
    },
    {
      "cell_type": "code",
      "source": [
        "#Imports\n",
        "import pandas as pd\n",
        "import random\n",
        "import numpy as np"
      ],
      "metadata": {
        "id": "b8JQXmMXATG2"
      },
      "execution_count": 1,
      "outputs": []
    },
    {
      "cell_type": "code",
      "execution_count": 2,
      "metadata": {
        "colab": {
          "base_uri": "https://localhost:8080/",
          "height": 606
        },
        "id": "0M-xDLNCAJvW",
        "outputId": "84aeb4ec-3d7a-4bb2-e412-8afb746885da"
      },
      "outputs": [
        {
          "output_type": "stream",
          "name": "stdout",
          "text": [
            "<bound method NDFrame.describe of             fecha    mes  anio     linea  tipo_pago  afluencia\n",
            "0      2021-01-01  Enero  2021  LÃ­nea 1    Prepago    39122.0\n",
            "1      2021-01-01  Enero  2021  LÃ­nea 1  Gratuidad     3528.0\n",
            "2      2021-01-02  Enero  2021  LÃ­nea 1    Prepago    86300.0\n",
            "3      2021-01-02  Enero  2021  LÃ­nea 1  Gratuidad     6290.0\n",
            "4      2021-01-03  Enero  2021  LÃ­nea 1    Prepago    65834.0\n",
            "...           ...    ...   ...       ...        ...        ...\n",
            "13183  2023-07-29  Julio  2023  LÃ­nea 7  Gratuidad     1136.0\n",
            "13184  2023-07-30  Julio  2023  LÃ­nea 7    Prepago    59512.0\n",
            "13185  2023-07-30  Julio  2023  LÃ­nea 7  Gratuidad      852.0\n",
            "13186  2023-07-31  Julio  2023  LÃ­nea 7    Prepago   142046.0\n",
            "13187  2023-07-31  Julio  2023  LÃ­nea 7  Gratuidad     1640.0\n",
            "\n",
            "[13188 rows x 6 columns]>\n"
          ]
        },
        {
          "output_type": "execute_result",
          "data": {
            "text/plain": [
              "        fecha    mes  anio     linea  tipo_pago  afluencia\n",
              "0  2021-01-01  Enero  2021  LÃ­nea 1    Prepago    39122.0\n",
              "1  2021-01-01  Enero  2021  LÃ­nea 1  Gratuidad     3528.0\n",
              "2  2021-01-02  Enero  2021  LÃ­nea 1    Prepago    86300.0\n",
              "3  2021-01-02  Enero  2021  LÃ­nea 1  Gratuidad     6290.0\n",
              "4  2021-01-03  Enero  2021  LÃ­nea 1    Prepago    65834.0\n",
              "5  2021-01-03  Enero  2021  LÃ­nea 1  Gratuidad     5105.0\n",
              "6  2021-01-04  Enero  2021  LÃ­nea 1    Prepago   166332.0\n",
              "7  2021-01-04  Enero  2021  LÃ­nea 1  Gratuidad    10498.0\n",
              "8  2021-01-05  Enero  2021  LÃ­nea 1    Prepago   170341.0\n",
              "9  2021-01-05  Enero  2021  LÃ­nea 1  Gratuidad    10007.0"
            ],
            "text/html": [
              "\n",
              "  <div id=\"df-77f9f395-473e-41c8-a551-78c75a955d4d\" class=\"colab-df-container\">\n",
              "    <div>\n",
              "<style scoped>\n",
              "    .dataframe tbody tr th:only-of-type {\n",
              "        vertical-align: middle;\n",
              "    }\n",
              "\n",
              "    .dataframe tbody tr th {\n",
              "        vertical-align: top;\n",
              "    }\n",
              "\n",
              "    .dataframe thead th {\n",
              "        text-align: right;\n",
              "    }\n",
              "</style>\n",
              "<table border=\"1\" class=\"dataframe\">\n",
              "  <thead>\n",
              "    <tr style=\"text-align: right;\">\n",
              "      <th></th>\n",
              "      <th>fecha</th>\n",
              "      <th>mes</th>\n",
              "      <th>anio</th>\n",
              "      <th>linea</th>\n",
              "      <th>tipo_pago</th>\n",
              "      <th>afluencia</th>\n",
              "    </tr>\n",
              "  </thead>\n",
              "  <tbody>\n",
              "    <tr>\n",
              "      <th>0</th>\n",
              "      <td>2021-01-01</td>\n",
              "      <td>Enero</td>\n",
              "      <td>2021</td>\n",
              "      <td>LÃ­nea 1</td>\n",
              "      <td>Prepago</td>\n",
              "      <td>39122.0</td>\n",
              "    </tr>\n",
              "    <tr>\n",
              "      <th>1</th>\n",
              "      <td>2021-01-01</td>\n",
              "      <td>Enero</td>\n",
              "      <td>2021</td>\n",
              "      <td>LÃ­nea 1</td>\n",
              "      <td>Gratuidad</td>\n",
              "      <td>3528.0</td>\n",
              "    </tr>\n",
              "    <tr>\n",
              "      <th>2</th>\n",
              "      <td>2021-01-02</td>\n",
              "      <td>Enero</td>\n",
              "      <td>2021</td>\n",
              "      <td>LÃ­nea 1</td>\n",
              "      <td>Prepago</td>\n",
              "      <td>86300.0</td>\n",
              "    </tr>\n",
              "    <tr>\n",
              "      <th>3</th>\n",
              "      <td>2021-01-02</td>\n",
              "      <td>Enero</td>\n",
              "      <td>2021</td>\n",
              "      <td>LÃ­nea 1</td>\n",
              "      <td>Gratuidad</td>\n",
              "      <td>6290.0</td>\n",
              "    </tr>\n",
              "    <tr>\n",
              "      <th>4</th>\n",
              "      <td>2021-01-03</td>\n",
              "      <td>Enero</td>\n",
              "      <td>2021</td>\n",
              "      <td>LÃ­nea 1</td>\n",
              "      <td>Prepago</td>\n",
              "      <td>65834.0</td>\n",
              "    </tr>\n",
              "    <tr>\n",
              "      <th>5</th>\n",
              "      <td>2021-01-03</td>\n",
              "      <td>Enero</td>\n",
              "      <td>2021</td>\n",
              "      <td>LÃ­nea 1</td>\n",
              "      <td>Gratuidad</td>\n",
              "      <td>5105.0</td>\n",
              "    </tr>\n",
              "    <tr>\n",
              "      <th>6</th>\n",
              "      <td>2021-01-04</td>\n",
              "      <td>Enero</td>\n",
              "      <td>2021</td>\n",
              "      <td>LÃ­nea 1</td>\n",
              "      <td>Prepago</td>\n",
              "      <td>166332.0</td>\n",
              "    </tr>\n",
              "    <tr>\n",
              "      <th>7</th>\n",
              "      <td>2021-01-04</td>\n",
              "      <td>Enero</td>\n",
              "      <td>2021</td>\n",
              "      <td>LÃ­nea 1</td>\n",
              "      <td>Gratuidad</td>\n",
              "      <td>10498.0</td>\n",
              "    </tr>\n",
              "    <tr>\n",
              "      <th>8</th>\n",
              "      <td>2021-01-05</td>\n",
              "      <td>Enero</td>\n",
              "      <td>2021</td>\n",
              "      <td>LÃ­nea 1</td>\n",
              "      <td>Prepago</td>\n",
              "      <td>170341.0</td>\n",
              "    </tr>\n",
              "    <tr>\n",
              "      <th>9</th>\n",
              "      <td>2021-01-05</td>\n",
              "      <td>Enero</td>\n",
              "      <td>2021</td>\n",
              "      <td>LÃ­nea 1</td>\n",
              "      <td>Gratuidad</td>\n",
              "      <td>10007.0</td>\n",
              "    </tr>\n",
              "  </tbody>\n",
              "</table>\n",
              "</div>\n",
              "    <div class=\"colab-df-buttons\">\n",
              "\n",
              "  <div class=\"colab-df-container\">\n",
              "    <button class=\"colab-df-convert\" onclick=\"convertToInteractive('df-77f9f395-473e-41c8-a551-78c75a955d4d')\"\n",
              "            title=\"Convert this dataframe to an interactive table.\"\n",
              "            style=\"display:none;\">\n",
              "\n",
              "  <svg xmlns=\"http://www.w3.org/2000/svg\" height=\"24px\" viewBox=\"0 -960 960 960\">\n",
              "    <path d=\"M120-120v-720h720v720H120Zm60-500h600v-160H180v160Zm220 220h160v-160H400v160Zm0 220h160v-160H400v160ZM180-400h160v-160H180v160Zm440 0h160v-160H620v160ZM180-180h160v-160H180v160Zm440 0h160v-160H620v160Z\"/>\n",
              "  </svg>\n",
              "    </button>\n",
              "\n",
              "  <style>\n",
              "    .colab-df-container {\n",
              "      display:flex;\n",
              "      gap: 12px;\n",
              "    }\n",
              "\n",
              "    .colab-df-convert {\n",
              "      background-color: #E8F0FE;\n",
              "      border: none;\n",
              "      border-radius: 50%;\n",
              "      cursor: pointer;\n",
              "      display: none;\n",
              "      fill: #1967D2;\n",
              "      height: 32px;\n",
              "      padding: 0 0 0 0;\n",
              "      width: 32px;\n",
              "    }\n",
              "\n",
              "    .colab-df-convert:hover {\n",
              "      background-color: #E2EBFA;\n",
              "      box-shadow: 0px 1px 2px rgba(60, 64, 67, 0.3), 0px 1px 3px 1px rgba(60, 64, 67, 0.15);\n",
              "      fill: #174EA6;\n",
              "    }\n",
              "\n",
              "    .colab-df-buttons div {\n",
              "      margin-bottom: 4px;\n",
              "    }\n",
              "\n",
              "    [theme=dark] .colab-df-convert {\n",
              "      background-color: #3B4455;\n",
              "      fill: #D2E3FC;\n",
              "    }\n",
              "\n",
              "    [theme=dark] .colab-df-convert:hover {\n",
              "      background-color: #434B5C;\n",
              "      box-shadow: 0px 1px 3px 1px rgba(0, 0, 0, 0.15);\n",
              "      filter: drop-shadow(0px 1px 2px rgba(0, 0, 0, 0.3));\n",
              "      fill: #FFFFFF;\n",
              "    }\n",
              "  </style>\n",
              "\n",
              "    <script>\n",
              "      const buttonEl =\n",
              "        document.querySelector('#df-77f9f395-473e-41c8-a551-78c75a955d4d button.colab-df-convert');\n",
              "      buttonEl.style.display =\n",
              "        google.colab.kernel.accessAllowed ? 'block' : 'none';\n",
              "\n",
              "      async function convertToInteractive(key) {\n",
              "        const element = document.querySelector('#df-77f9f395-473e-41c8-a551-78c75a955d4d');\n",
              "        const dataTable =\n",
              "          await google.colab.kernel.invokeFunction('convertToInteractive',\n",
              "                                                    [key], {});\n",
              "        if (!dataTable) return;\n",
              "\n",
              "        const docLinkHtml = 'Like what you see? Visit the ' +\n",
              "          '<a target=\"_blank\" href=https://colab.research.google.com/notebooks/data_table.ipynb>data table notebook</a>'\n",
              "          + ' to learn more about interactive tables.';\n",
              "        element.innerHTML = '';\n",
              "        dataTable['output_type'] = 'display_data';\n",
              "        await google.colab.output.renderOutput(dataTable, element);\n",
              "        const docLink = document.createElement('div');\n",
              "        docLink.innerHTML = docLinkHtml;\n",
              "        element.appendChild(docLink);\n",
              "      }\n",
              "    </script>\n",
              "  </div>\n",
              "\n",
              "\n",
              "<div id=\"df-c5fa0b92-1e23-48f9-b51f-d8b5fc1a8db7\">\n",
              "  <button class=\"colab-df-quickchart\" onclick=\"quickchart('df-c5fa0b92-1e23-48f9-b51f-d8b5fc1a8db7')\"\n",
              "            title=\"Suggest charts.\"\n",
              "            style=\"display:none;\">\n",
              "\n",
              "<svg xmlns=\"http://www.w3.org/2000/svg\" height=\"24px\"viewBox=\"0 0 24 24\"\n",
              "     width=\"24px\">\n",
              "    <g>\n",
              "        <path d=\"M19 3H5c-1.1 0-2 .9-2 2v14c0 1.1.9 2 2 2h14c1.1 0 2-.9 2-2V5c0-1.1-.9-2-2-2zM9 17H7v-7h2v7zm4 0h-2V7h2v10zm4 0h-2v-4h2v4z\"/>\n",
              "    </g>\n",
              "</svg>\n",
              "  </button>\n",
              "\n",
              "<style>\n",
              "  .colab-df-quickchart {\n",
              "      --bg-color: #E8F0FE;\n",
              "      --fill-color: #1967D2;\n",
              "      --hover-bg-color: #E2EBFA;\n",
              "      --hover-fill-color: #174EA6;\n",
              "      --disabled-fill-color: #AAA;\n",
              "      --disabled-bg-color: #DDD;\n",
              "  }\n",
              "\n",
              "  [theme=dark] .colab-df-quickchart {\n",
              "      --bg-color: #3B4455;\n",
              "      --fill-color: #D2E3FC;\n",
              "      --hover-bg-color: #434B5C;\n",
              "      --hover-fill-color: #FFFFFF;\n",
              "      --disabled-bg-color: #3B4455;\n",
              "      --disabled-fill-color: #666;\n",
              "  }\n",
              "\n",
              "  .colab-df-quickchart {\n",
              "    background-color: var(--bg-color);\n",
              "    border: none;\n",
              "    border-radius: 50%;\n",
              "    cursor: pointer;\n",
              "    display: none;\n",
              "    fill: var(--fill-color);\n",
              "    height: 32px;\n",
              "    padding: 0;\n",
              "    width: 32px;\n",
              "  }\n",
              "\n",
              "  .colab-df-quickchart:hover {\n",
              "    background-color: var(--hover-bg-color);\n",
              "    box-shadow: 0 1px 2px rgba(60, 64, 67, 0.3), 0 1px 3px 1px rgba(60, 64, 67, 0.15);\n",
              "    fill: var(--button-hover-fill-color);\n",
              "  }\n",
              "\n",
              "  .colab-df-quickchart-complete:disabled,\n",
              "  .colab-df-quickchart-complete:disabled:hover {\n",
              "    background-color: var(--disabled-bg-color);\n",
              "    fill: var(--disabled-fill-color);\n",
              "    box-shadow: none;\n",
              "  }\n",
              "\n",
              "  .colab-df-spinner {\n",
              "    border: 2px solid var(--fill-color);\n",
              "    border-color: transparent;\n",
              "    border-bottom-color: var(--fill-color);\n",
              "    animation:\n",
              "      spin 1s steps(1) infinite;\n",
              "  }\n",
              "\n",
              "  @keyframes spin {\n",
              "    0% {\n",
              "      border-color: transparent;\n",
              "      border-bottom-color: var(--fill-color);\n",
              "      border-left-color: var(--fill-color);\n",
              "    }\n",
              "    20% {\n",
              "      border-color: transparent;\n",
              "      border-left-color: var(--fill-color);\n",
              "      border-top-color: var(--fill-color);\n",
              "    }\n",
              "    30% {\n",
              "      border-color: transparent;\n",
              "      border-left-color: var(--fill-color);\n",
              "      border-top-color: var(--fill-color);\n",
              "      border-right-color: var(--fill-color);\n",
              "    }\n",
              "    40% {\n",
              "      border-color: transparent;\n",
              "      border-right-color: var(--fill-color);\n",
              "      border-top-color: var(--fill-color);\n",
              "    }\n",
              "    60% {\n",
              "      border-color: transparent;\n",
              "      border-right-color: var(--fill-color);\n",
              "    }\n",
              "    80% {\n",
              "      border-color: transparent;\n",
              "      border-right-color: var(--fill-color);\n",
              "      border-bottom-color: var(--fill-color);\n",
              "    }\n",
              "    90% {\n",
              "      border-color: transparent;\n",
              "      border-bottom-color: var(--fill-color);\n",
              "    }\n",
              "  }\n",
              "</style>\n",
              "\n",
              "  <script>\n",
              "    async function quickchart(key) {\n",
              "      const quickchartButtonEl =\n",
              "        document.querySelector('#' + key + ' button');\n",
              "      quickchartButtonEl.disabled = true;  // To prevent multiple clicks.\n",
              "      quickchartButtonEl.classList.add('colab-df-spinner');\n",
              "      try {\n",
              "        const charts = await google.colab.kernel.invokeFunction(\n",
              "            'suggestCharts', [key], {});\n",
              "      } catch (error) {\n",
              "        console.error('Error during call to suggestCharts:', error);\n",
              "      }\n",
              "      quickchartButtonEl.classList.remove('colab-df-spinner');\n",
              "      quickchartButtonEl.classList.add('colab-df-quickchart-complete');\n",
              "    }\n",
              "    (() => {\n",
              "      let quickchartButtonEl =\n",
              "        document.querySelector('#df-c5fa0b92-1e23-48f9-b51f-d8b5fc1a8db7 button');\n",
              "      quickchartButtonEl.style.display =\n",
              "        google.colab.kernel.accessAllowed ? 'block' : 'none';\n",
              "    })();\n",
              "  </script>\n",
              "</div>\n",
              "    </div>\n",
              "  </div>\n"
            ]
          },
          "metadata": {},
          "execution_count": 2
        }
      ],
      "source": [
        "df =  pd.read_csv(\"afluencia.csv\", encoding= \"ISO-8859-1\") # Carga del csv dentro de un dataframe usando pandas\n",
        "\n",
        "print(df.describe) # Información básica del dataframe\n",
        "df.head(10)  # Primeros 10 registros del df"
      ]
    },
    {
      "cell_type": "code",
      "source": [
        "valor_maximo = df['afluencia'].max()\n",
        "valor_minimo = df['afluencia'].min()\n",
        "\n",
        "print(\"Valor Máximo:\", valor_maximo)\n",
        "print(\"Valor Mínimo:\", valor_minimo)"
      ],
      "metadata": {
        "colab": {
          "base_uri": "https://localhost:8080/"
        },
        "id": "821-E5LJAobQ",
        "outputId": "080a70b3-765c-4cc8-e994-47f989649bfc"
      },
      "execution_count": 3,
      "outputs": [
        {
          "output_type": "stream",
          "name": "stdout",
          "text": [
            "Valor Máximo: 491536.0\n",
            "Valor Mínimo: 236.0\n"
          ]
        }
      ]
    },
    {
      "cell_type": "code",
      "source": [
        "#Media\n",
        "\n",
        "print(df['afluencia'].mean())"
      ],
      "metadata": {
        "colab": {
          "base_uri": "https://localhost:8080/"
        },
        "id": "WZOfPjgdAsEm",
        "outputId": "0f64e031-40db-4827-dc8c-e62d7c26b543"
      },
      "execution_count": 4,
      "outputs": [
        {
          "output_type": "stream",
          "name": "stdout",
          "text": [
            "79137.09384409795\n"
          ]
        }
      ]
    },
    {
      "cell_type": "code",
      "source": [
        "#Media Recortada\n",
        "sorted_df = df['afluencia'].sort_values()\n",
        "sorted_df = sorted_df.reset_index(drop=True)\n",
        "\n",
        "p = 50\n",
        "sum = 0\n",
        "for i in range(p,len(sorted_df)-p):\n",
        "  sum += sorted_df[i]\n",
        "\n",
        "mean_recort = sum/(len(sorted_df)-2*p)\n",
        "print(mean_recort)"
      ],
      "metadata": {
        "colab": {
          "base_uri": "https://localhost:8080/"
        },
        "id": "hX9_GtDGA4UC",
        "outputId": "ab00a993-a372-42e5-a9ca-29260b77e16f"
      },
      "execution_count": 5,
      "outputs": [
        {
          "output_type": "stream",
          "name": "stdout",
          "text": [
            "77944.63597310234\n"
          ]
        }
      ]
    },
    {
      "cell_type": "code",
      "source": [
        "#Moda\n",
        "moda = df['linea'].mode()\n",
        "print(moda)"
      ],
      "metadata": {
        "colab": {
          "base_uri": "https://localhost:8080/"
        },
        "id": "oUu0O252A6XW",
        "outputId": "459ef3a8-4918-42f5-fd46-ba7751ed6c15"
      },
      "execution_count": 6,
      "outputs": [
        {
          "output_type": "stream",
          "name": "stdout",
          "text": [
            "0    LÃ­nea 1\n",
            "1    LÃ­nea 2\n",
            "2    LÃ­nea 3\n",
            "3    LÃ­nea 4\n",
            "4    LÃ­nea 5\n",
            "5    LÃ­nea 6\n",
            "6    LÃ­nea 7\n",
            "Name: linea, dtype: object\n"
          ]
        }
      ]
    },
    {
      "cell_type": "code",
      "source": [
        "#Mediana\n",
        "mediana = df['afluencia'].median()\n",
        "print(mediana)"
      ],
      "metadata": {
        "colab": {
          "base_uri": "https://localhost:8080/"
        },
        "id": "t8bUFUnlA84e",
        "outputId": "73b7c745-9305-48d4-e060-99d545c3e93d"
      },
      "execution_count": 7,
      "outputs": [
        {
          "output_type": "stream",
          "name": "stdout",
          "text": [
            "24984.0\n"
          ]
        }
      ]
    },
    {
      "cell_type": "code",
      "source": [
        "#Varianza\n",
        "varianza = df['afluencia'].var()\n",
        "print(varianza)"
      ],
      "metadata": {
        "colab": {
          "base_uri": "https://localhost:8080/"
        },
        "id": "ROm4LpsRA_fG",
        "outputId": "bfd8cd4e-12bc-465d-ca51-f568a9d7e4cc"
      },
      "execution_count": 8,
      "outputs": [
        {
          "output_type": "stream",
          "name": "stdout",
          "text": [
            "8744405906.929956\n"
          ]
        }
      ]
    },
    {
      "cell_type": "code",
      "source": [
        "#Desviación estándar\n",
        "sd = df['afluencia'].std()\n",
        "print(sd)"
      ],
      "metadata": {
        "colab": {
          "base_uri": "https://localhost:8080/"
        },
        "id": "nEFKKBKfBBBN",
        "outputId": "38cd6ce7-321b-41c9-8f9e-b335bd5c4934"
      },
      "execution_count": 9,
      "outputs": [
        {
          "output_type": "stream",
          "name": "stdout",
          "text": [
            "93511.52820337156\n"
          ]
        }
      ]
    },
    {
      "cell_type": "code",
      "source": [
        "#Cuartiles\n",
        "cuartiles = df['afluencia'].quantile([0.25,0.5,0.75])\n",
        "print(cuartiles)"
      ],
      "metadata": {
        "colab": {
          "base_uri": "https://localhost:8080/"
        },
        "id": "iv_mtfOYBEQ7",
        "outputId": "66db1a7a-7bfc-4f77-983e-d378f513a7b0"
      },
      "execution_count": 10,
      "outputs": [
        {
          "output_type": "stream",
          "name": "stdout",
          "text": [
            "0.25      9046.0\n",
            "0.50     24984.0\n",
            "0.75    126554.5\n",
            "Name: afluencia, dtype: float64\n"
          ]
        }
      ]
    }
  ]
}